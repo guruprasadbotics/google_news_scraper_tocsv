{
  "nbformat": 4,
  "nbformat_minor": 0,
  "metadata": {
    "colab": {
      "provenance": [],
      "authorship_tag": "ABX9TyNaZFt66vsfB3zc9afT1P0y",
      "include_colab_link": true
    },
    "kernelspec": {
      "name": "python3",
      "display_name": "Python 3"
    },
    "language_info": {
      "name": "python"
    }
  },
  "cells": [
    {
      "cell_type": "markdown",
      "metadata": {
        "id": "view-in-github",
        "colab_type": "text"
      },
      "source": [
        "<a href=\"https://colab.research.google.com/github/guruprasadbotics/google_news_scraper_tocsv/blob/main/Google_news_scraper.ipynb\" target=\"_parent\"><img src=\"https://colab.research.google.com/assets/colab-badge.svg\" alt=\"Open In Colab\"/></a>"
      ]
    },
    {
      "cell_type": "code",
      "execution_count": 1,
      "metadata": {
        "colab": {
          "base_uri": "https://localhost:8080/"
        },
        "id": "Kz-jwNwdeyj0",
        "outputId": "a4b334bd-a92a-4d95-f24f-912f989e411a"
      },
      "outputs": [
        {
          "output_type": "stream",
          "name": "stdout",
          "text": [
            "Requirement already satisfied: requests in /usr/local/lib/python3.10/dist-packages (2.31.0)\n",
            "Requirement already satisfied: charset-normalizer<4,>=2 in /usr/local/lib/python3.10/dist-packages (from requests) (3.3.2)\n",
            "Requirement already satisfied: idna<4,>=2.5 in /usr/local/lib/python3.10/dist-packages (from requests) (3.7)\n",
            "Requirement already satisfied: urllib3<3,>=1.21.1 in /usr/local/lib/python3.10/dist-packages (from requests) (2.0.7)\n",
            "Requirement already satisfied: certifi>=2017.4.17 in /usr/local/lib/python3.10/dist-packages (from requests) (2024.2.2)\n"
          ]
        }
      ],
      "source": [
        "pip install requests"
      ]
    },
    {
      "cell_type": "code",
      "source": [
        "pip install beautifulsoup4"
      ],
      "metadata": {
        "colab": {
          "base_uri": "https://localhost:8080/"
        },
        "id": "9CfCJ9aefOLM",
        "outputId": "2061cb90-a4ed-481d-ade5-1bdd9fc0fd7b"
      },
      "execution_count": null,
      "outputs": [
        {
          "output_type": "stream",
          "name": "stdout",
          "text": [
            "Requirement already satisfied: beautifulsoup4 in /usr/local/lib/python3.10/dist-packages (4.12.3)\n",
            "Requirement already satisfied: soupsieve>1.2 in /usr/local/lib/python3.10/dist-packages (from beautifulsoup4) (2.5)\n"
          ]
        }
      ]
    },
    {
      "cell_type": "code",
      "source": [
        "import requests\n",
        "from bs4 import BeautifulSoup\n",
        "import pandas as pd\n",
        "\n",
        "# Search Query\n",
        "query = 'Indian Stock Market'\n",
        "\n",
        "# Encode special characters in a text string\n",
        "def encode_special_characters(text):\n",
        "    encoded_text = ''\n",
        "    special_characters = {'&': '%26', '=': '%3D', '+': '%2B', ' ': '%20'}  # Add more special characters as needed\n",
        "    for char in text.lower():\n",
        "        encoded_text += special_characters.get(char, char)\n",
        "    return encoded_text\n",
        "\n",
        "query2 = encode_special_characters(query) # the query given above as string encoded as special characters\n",
        "url = f\"https://news.google.com/search?q={query2}&hl=en-US&gl=US&ceid=US%3Aen\" # the complete URL with the query\n",
        "\n",
        "response = requests.get(url) # html response\n",
        "soup = BeautifulSoup(response.text, 'html.parser') # parsing the html code\n",
        "\n",
        "articles = soup.find_all('article')\n",
        "links = [article.find('a')['href'] for article in articles]\n",
        "links = [link.replace(\"./articles/\", \"https://news.google.com/articles/\") for link in links]\n",
        "\n",
        "news_text = [article.get_text(separator='\\n') for article in articles]\n",
        "news_text_split = [text.split('\\n') for text in news_text]\n",
        "\n",
        "news_df = pd.DataFrame({\n",
        "    'Title': [text[2] for text in news_text_split],\n",
        "    'Source': [text[0] for text in news_text_split],\n",
        "    'Time': [text[3] if len(text) > 3 else 'Missing' for text in news_text_split],\n",
        "    'Author': [text[4].split('By ')[-1] if len(text) > 4 else 'Missing' for text in news_text_split],\n",
        "    'Link': links\n",
        "}) # converting the responses into a data frame and writing it as a .csv file\n",
        "\n",
        "# Write to CSV\n",
        "news_df.to_csv('news.csv', index=False)"
      ],
      "metadata": {
        "id": "HxLGLvXVfwUc"
      },
      "execution_count": null,
      "outputs": []
    }
  ]
}